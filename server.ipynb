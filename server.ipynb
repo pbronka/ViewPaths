{
 "cells": [
  {
   "cell_type": "code",
   "execution_count": null,
   "id": "a09889bc",
   "metadata": {},
   "outputs": [
    {
     "name": "stdout",
     "output_type": "stream",
     "text": [
      " * Serving Flask app '__main__'\n",
      " * Debug mode: off\n"
     ]
    },
    {
     "name": "stderr",
     "output_type": "stream",
     "text": [
      "\u001b[31m\u001b[1mWARNING: This is a development server. Do not use it in a production deployment. Use a production WSGI server instead.\u001b[0m\n",
      " * Running on http://127.0.0.1:5432\n",
      "\u001b[33mPress CTRL+C to quit\u001b[0m\n",
      "127.0.0.1 - - [04/Nov/2022 18:52:45] \"GET / HTTP/1.1\" 200 -\n",
      "127.0.0.1 - - [04/Nov/2022 18:52:45] \"\u001b[33mGET /favicon.ico HTTP/1.1\u001b[0m\" 404 -\n",
      "127.0.0.1 - - [04/Nov/2022 18:52:54] \"GET /getdata?year=2019 HTTP/1.1\" 200 -\n"
     ]
    },
    {
     "name": "stdout",
     "output_type": "stream",
     "text": [
      "<class 'str'> 2019\n"
     ]
    },
    {
     "name": "stderr",
     "output_type": "stream",
     "text": [
      "127.0.0.1 - - [04/Nov/2022 18:52:56] \"GET /getdata?year=2020 HTTP/1.1\" 200 -\n"
     ]
    },
    {
     "name": "stdout",
     "output_type": "stream",
     "text": [
      "<class 'str'> 2020\n"
     ]
    }
   ],
   "source": [
    "from flask import Flask, render_template, request\n",
    "import threading\n",
    "import webbrowser\n",
    "import json \n",
    "import pandas as pd\n",
    "\n",
    "df = pd.read_csv('Data/Person.csv',low_memory=False,index_col=None)\n",
    "\n",
    "app = Flask(__name__)\n",
    "\n",
    "@app.route('/')\n",
    "def index():\n",
    "    return render_template('index.html')\n",
    "\n",
    "@app.route(\"/getdata\", methods = ['GET'])\n",
    "def getdata():\n",
    "  year = request.args.get('year')\n",
    "  print(type(year),year)\n",
    "  df_slect = df[df['time'] == int(year)]\n",
    "  return df_slect[['id_person','dag','potentialearnings']].to_json(orient='records')    \n",
    "\n",
    "if __name__ == \"__main__\":\n",
    "    port = 5432\n",
    "    url = \"http://127.0.0.1:{0}\".format(port)\n",
    "    threading.Timer(1.25, lambda: webbrowser.open(url) ).start()\n",
    "    app.run(port=port, debug=False)\n"
   ]
  },
  {
   "cell_type": "code",
   "execution_count": null,
   "id": "a3c158a6",
   "metadata": {},
   "outputs": [],
   "source": []
  }
 ],
 "metadata": {
  "kernelspec": {
   "display_name": "Python 3 (ipykernel)",
   "language": "python",
   "name": "python3"
  },
  "language_info": {
   "codemirror_mode": {
    "name": "ipython",
    "version": 3
   },
   "file_extension": ".py",
   "mimetype": "text/x-python",
   "name": "python",
   "nbconvert_exporter": "python",
   "pygments_lexer": "ipython3",
   "version": "3.10.6"
  }
 },
 "nbformat": 4,
 "nbformat_minor": 5
}
