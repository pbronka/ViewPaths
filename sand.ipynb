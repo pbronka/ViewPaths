{
 "cells": [
  {
   "cell_type": "code",
   "execution_count": 1,
   "metadata": {},
   "outputs": [
    {
     "name": "stdout",
     "output_type": "stream",
     "text": [
      "Files and directories in ' ' :\n",
      "['Household.csv', 'BenefitUnit.csv', 'Person.csv', 'PersonSubSample.csv', 'Description of variables.xlsx']\n"
     ]
    }
   ],
   "source": [
    "import os\n",
    "import pandas as pd\n",
    "import json\n",
    "dir_list = os.listdir(\"Data\")\n",
    " \n",
    "print(\"Files and directories in '\",  \"' :\")\n",
    " \n",
    "# prints all files\n",
    "print(dir_list)"
   ]
  },
  {
   "cell_type": "code",
   "execution_count": 2,
   "metadata": {},
   "outputs": [
    {
     "name": "stdout",
     "output_type": "stream",
     "text": [
      "Household.csv\n",
      "['run', 'time', 'id_household', 'dwt', 'size']\n",
      "BenefitUnit.csv\n",
      "['run', 'time', 'id_benefitunit', 'atriskofpoverty', 'dhh_owned', 'dhhtp_c4', 'disposableincomemonthly', 'equivaliseddisposableincomeyearl', 'id_female', 'id_household', 'id_male', 'n_children_0', 'n_children_1', 'n_children_10', 'n_children_11', 'n_children_12', 'n_children_13', 'n_children_14', 'n_children_15', 'n_children_16', 'n_children_17', 'n_children_2', 'n_children_3', 'n_children_4', 'n_children_5', 'n_children_6', 'n_children_7', 'n_children_8', 'n_children_9', 'occupancy', 'region', 'size', 'ydses_c5']\n",
      "Person.csv\n",
      "['run', 'time', 'id_person', 'adultchildflag', 'dag', 'dcpagdf', 'dcpen', 'dcpex', 'dcpst', 'dcpyy', 'ded', 'deh_c3', 'dehf_c3', 'dehm_c3', 'dehsp_c3', 'der', 'dgn', 'dhe', 'dhesp', 'dhh_owned', 'dhm', 'dlltsd', 'household_status', 'id_benefitunit', 'id_father', 'id_mother', 'id_partner', 'les_c4', 'les_c7_covid', 'lesdf_c4', 'lessp_c4', 'potentialearnings', 'sindex', 'sindexnormalised', 'weight', 'yearlyequivalisedconsumption', 'ynbcpdf_dv', 'yplgrs_dv', 'ypnbihs_dv', 'ypncp', 'ypnoab', 'yptciihs_dv']\n",
      "PersonSubSample.csv\n",
      "['run', 'time', 'id_person', 'adultchildflag', 'dag', 'dcpagdf', 'dcpen', 'dcpex', 'dcpst', 'dcpyy', 'ded', 'deh_c3', 'dehf_c3', 'dehm_c3', 'dehsp_c3', 'der', 'dgn', 'dhe', 'dhesp', 'dhh_owned', 'dhm', 'dlltsd', 'household_status', 'id_benefitunit', 'id_father', 'id_mother', 'id_partner', 'les_c4', 'les_c7_covid', 'lesdf_c4', 'lessp_c4', 'potentialearnings', 'sindex', 'sindexnormalised', 'weight', 'yearlyequivalisedconsumption', 'ynbcpdf_dv', 'yplgrs_dv', 'ypnbihs_dv', 'ypncp', 'ypnoab', 'yptciihs_dv']\n"
     ]
    }
   ],
   "source": [
    "for f in dir_list:\n",
    "    if \"csv\" in f:\n",
    "        print(f)\n",
    "        with open(\"Data/\"+f) as f:\n",
    "            first_line = f.readline().rstrip().split(\",\")\n",
    "            print(first_line)\n",
    "\n"
   ]
  },
  {
   "cell_type": "code",
   "execution_count": 3,
   "metadata": {},
   "outputs": [],
   "source": [
    "df = pd.read_csv('Data/Person.csv',low_memory=False,index_col=None)"
   ]
  },
  {
   "cell_type": "code",
   "execution_count": 4,
   "metadata": {},
   "outputs": [
    {
     "data": {
      "text/plain": [
       "'[2011, 2012, 2013, 2014, 2015, 2016, 2017, 2018, 2019, 2020, 2021, 2022, 2023, 2024, 2025]'"
      ]
     },
     "execution_count": 4,
     "metadata": {},
     "output_type": "execute_result"
    }
   ],
   "source": [
    "json.dumps(pd.unique(df[\"time\"]).tolist())"
   ]
  },
  {
   "cell_type": "code",
   "execution_count": 6,
   "metadata": {},
   "outputs": [
    {
     "data": {
      "text/plain": [
       "16707054"
      ]
     },
     "execution_count": 6,
     "metadata": {},
     "output_type": "execute_result"
    }
   ],
   "source": [
    "df.size"
   ]
  },
  {
   "cell_type": "code",
   "execution_count": null,
   "metadata": {},
   "outputs": [],
   "source": []
  }
 ],
 "metadata": {
  "kernelspec": {
   "display_name": "Python 3.10.6 ('Env')",
   "language": "python",
   "name": "python3"
  },
  "language_info": {
   "codemirror_mode": {
    "name": "ipython",
    "version": 3
   },
   "file_extension": ".py",
   "mimetype": "text/x-python",
   "name": "python",
   "nbconvert_exporter": "python",
   "pygments_lexer": "ipython3",
   "version": "3.10.6"
  },
  "orig_nbformat": 4,
  "vscode": {
   "interpreter": {
    "hash": "86b261f602f199420b016e7ca607bd47aa1152e372e7b71b38bf85db67f8713f"
   }
  }
 },
 "nbformat": 4,
 "nbformat_minor": 2
}
